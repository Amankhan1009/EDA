{
 "cells": [
  {
   "cell_type": "code",
   "execution_count": 1,
   "metadata": {},
   "outputs": [
    {
     "name": "stderr",
     "output_type": "stream",
     "text": [
      "C:\\Users\\amank\\AppData\\Local\\Temp\\ipykernel_12800\\597237782.py:5: DeprecationWarning: \n",
      "Pyarrow will become a required dependency of pandas in the next major release of pandas (pandas 3.0),\n",
      "(to allow more performant data types, such as the Arrow string type, and better interoperability with other libraries)\n",
      "but was not found to be installed on your system.\n",
      "If this would cause problems for you,\n",
      "please provide us feedback at https://github.com/pandas-dev/pandas/issues/54466\n",
      "        \n",
      "  import pandas as pd\n"
     ]
    }
   ],
   "source": [
    "#This eda has a lot of visulaisation and feature engineering\n",
    "#also it is a great example of preparatrion of target variable case_status\n",
    "\n",
    "\n",
    "import pandas as pd\n",
    "import numpy as np\n",
    "import matplotlib.pyplot as plt\n",
    "import seaborn as sns\n",
    "\n",
    "import warnings\n",
    "warnings.filterwarnings('ignore')"
   ]
  },
  {
   "cell_type": "code",
   "execution_count": 2,
   "metadata": {},
   "outputs": [
    {
     "data": {
      "text/html": [
       "<div>\n",
       "<style scoped>\n",
       "    .dataframe tbody tr th:only-of-type {\n",
       "        vertical-align: middle;\n",
       "    }\n",
       "\n",
       "    .dataframe tbody tr th {\n",
       "        vertical-align: top;\n",
       "    }\n",
       "\n",
       "    .dataframe thead th {\n",
       "        text-align: right;\n",
       "    }\n",
       "</style>\n",
       "<table border=\"1\" class=\"dataframe\">\n",
       "  <thead>\n",
       "    <tr style=\"text-align: right;\">\n",
       "      <th></th>\n",
       "      <th>add_these_pw_job_title_9089</th>\n",
       "      <th>agent_city</th>\n",
       "      <th>agent_firm_name</th>\n",
       "      <th>agent_state</th>\n",
       "      <th>application_type</th>\n",
       "      <th>case_no</th>\n",
       "      <th>case_number</th>\n",
       "      <th>case_received_date</th>\n",
       "      <th>case_status</th>\n",
       "      <th>class_of_admission</th>\n",
       "      <th>...</th>\n",
       "      <th>ri_pvt_employment_firm_to</th>\n",
       "      <th>ri_us_workers_considered</th>\n",
       "      <th>schd_a_sheepherder</th>\n",
       "      <th>us_economic_sector</th>\n",
       "      <th>wage_offer_from_9089</th>\n",
       "      <th>wage_offer_to_9089</th>\n",
       "      <th>wage_offer_unit_of_pay_9089</th>\n",
       "      <th>wage_offered_from_9089</th>\n",
       "      <th>wage_offered_to_9089</th>\n",
       "      <th>wage_offered_unit_of_pay_9089</th>\n",
       "    </tr>\n",
       "  </thead>\n",
       "  <tbody>\n",
       "    <tr>\n",
       "      <th>0</th>\n",
       "      <td>NaN</td>\n",
       "      <td>NaN</td>\n",
       "      <td>NaN</td>\n",
       "      <td>NaN</td>\n",
       "      <td>PERM</td>\n",
       "      <td>A-07323-97014</td>\n",
       "      <td>NaN</td>\n",
       "      <td>NaN</td>\n",
       "      <td>Certified</td>\n",
       "      <td>J-1</td>\n",
       "      <td>...</td>\n",
       "      <td>NaN</td>\n",
       "      <td>NaN</td>\n",
       "      <td>NaN</td>\n",
       "      <td>IT</td>\n",
       "      <td>75629.0</td>\n",
       "      <td>NaN</td>\n",
       "      <td>yr</td>\n",
       "      <td>NaN</td>\n",
       "      <td>NaN</td>\n",
       "      <td>NaN</td>\n",
       "    </tr>\n",
       "    <tr>\n",
       "      <th>1</th>\n",
       "      <td>NaN</td>\n",
       "      <td>NaN</td>\n",
       "      <td>NaN</td>\n",
       "      <td>NaN</td>\n",
       "      <td>PERM</td>\n",
       "      <td>A-07332-99439</td>\n",
       "      <td>NaN</td>\n",
       "      <td>NaN</td>\n",
       "      <td>Denied</td>\n",
       "      <td>B-2</td>\n",
       "      <td>...</td>\n",
       "      <td>NaN</td>\n",
       "      <td>NaN</td>\n",
       "      <td>NaN</td>\n",
       "      <td>Other Economic Sector</td>\n",
       "      <td>37024.0</td>\n",
       "      <td>NaN</td>\n",
       "      <td>yr</td>\n",
       "      <td>NaN</td>\n",
       "      <td>NaN</td>\n",
       "      <td>NaN</td>\n",
       "    </tr>\n",
       "    <tr>\n",
       "      <th>2</th>\n",
       "      <td>NaN</td>\n",
       "      <td>NaN</td>\n",
       "      <td>NaN</td>\n",
       "      <td>NaN</td>\n",
       "      <td>PERM</td>\n",
       "      <td>A-07333-99643</td>\n",
       "      <td>NaN</td>\n",
       "      <td>NaN</td>\n",
       "      <td>Certified</td>\n",
       "      <td>H-1B</td>\n",
       "      <td>...</td>\n",
       "      <td>NaN</td>\n",
       "      <td>NaN</td>\n",
       "      <td>NaN</td>\n",
       "      <td>Aerospace</td>\n",
       "      <td>47923.0</td>\n",
       "      <td>NaN</td>\n",
       "      <td>yr</td>\n",
       "      <td>NaN</td>\n",
       "      <td>NaN</td>\n",
       "      <td>NaN</td>\n",
       "    </tr>\n",
       "    <tr>\n",
       "      <th>3</th>\n",
       "      <td>NaN</td>\n",
       "      <td>NaN</td>\n",
       "      <td>NaN</td>\n",
       "      <td>NaN</td>\n",
       "      <td>PERM</td>\n",
       "      <td>A-07339-01930</td>\n",
       "      <td>NaN</td>\n",
       "      <td>NaN</td>\n",
       "      <td>Certified</td>\n",
       "      <td>B-2</td>\n",
       "      <td>...</td>\n",
       "      <td>NaN</td>\n",
       "      <td>NaN</td>\n",
       "      <td>NaN</td>\n",
       "      <td>Other Economic Sector</td>\n",
       "      <td>10.97</td>\n",
       "      <td>NaN</td>\n",
       "      <td>hr</td>\n",
       "      <td>NaN</td>\n",
       "      <td>NaN</td>\n",
       "      <td>NaN</td>\n",
       "    </tr>\n",
       "    <tr>\n",
       "      <th>4</th>\n",
       "      <td>NaN</td>\n",
       "      <td>NaN</td>\n",
       "      <td>NaN</td>\n",
       "      <td>NaN</td>\n",
       "      <td>PERM</td>\n",
       "      <td>A-07345-03565</td>\n",
       "      <td>NaN</td>\n",
       "      <td>NaN</td>\n",
       "      <td>Certified</td>\n",
       "      <td>L-1</td>\n",
       "      <td>...</td>\n",
       "      <td>NaN</td>\n",
       "      <td>NaN</td>\n",
       "      <td>NaN</td>\n",
       "      <td>Advanced Mfg</td>\n",
       "      <td>100000.0</td>\n",
       "      <td>NaN</td>\n",
       "      <td>yr</td>\n",
       "      <td>NaN</td>\n",
       "      <td>NaN</td>\n",
       "      <td>NaN</td>\n",
       "    </tr>\n",
       "    <tr>\n",
       "      <th>...</th>\n",
       "      <td>...</td>\n",
       "      <td>...</td>\n",
       "      <td>...</td>\n",
       "      <td>...</td>\n",
       "      <td>...</td>\n",
       "      <td>...</td>\n",
       "      <td>...</td>\n",
       "      <td>...</td>\n",
       "      <td>...</td>\n",
       "      <td>...</td>\n",
       "      <td>...</td>\n",
       "      <td>...</td>\n",
       "      <td>...</td>\n",
       "      <td>...</td>\n",
       "      <td>...</td>\n",
       "      <td>...</td>\n",
       "      <td>...</td>\n",
       "      <td>...</td>\n",
       "      <td>...</td>\n",
       "      <td>...</td>\n",
       "      <td>...</td>\n",
       "    </tr>\n",
       "    <tr>\n",
       "      <th>374357</th>\n",
       "      <td>NaN</td>\n",
       "      <td>Buena Park</td>\n",
       "      <td>Law Offices of Yohan Lee</td>\n",
       "      <td>CA</td>\n",
       "      <td>NaN</td>\n",
       "      <td>NaN</td>\n",
       "      <td>A-16363-85407</td>\n",
       "      <td>2016-12-29</td>\n",
       "      <td>Withdrawn</td>\n",
       "      <td>NaN</td>\n",
       "      <td>...</td>\n",
       "      <td>NaN</td>\n",
       "      <td>NaN</td>\n",
       "      <td>N</td>\n",
       "      <td>NaN</td>\n",
       "      <td>28,330.00</td>\n",
       "      <td>NaN</td>\n",
       "      <td>Year</td>\n",
       "      <td>NaN</td>\n",
       "      <td>NaN</td>\n",
       "      <td>NaN</td>\n",
       "    </tr>\n",
       "    <tr>\n",
       "      <th>374358</th>\n",
       "      <td>NaN</td>\n",
       "      <td>Seattle</td>\n",
       "      <td>MacDonald Hoague &amp; Bayless</td>\n",
       "      <td>WA</td>\n",
       "      <td>NaN</td>\n",
       "      <td>NaN</td>\n",
       "      <td>A-16271-56745</td>\n",
       "      <td>2016-12-30</td>\n",
       "      <td>Withdrawn</td>\n",
       "      <td>L-1</td>\n",
       "      <td>...</td>\n",
       "      <td>NaN</td>\n",
       "      <td>Y</td>\n",
       "      <td>N</td>\n",
       "      <td>NaN</td>\n",
       "      <td>122,000.00</td>\n",
       "      <td>142,000.00</td>\n",
       "      <td>Year</td>\n",
       "      <td>NaN</td>\n",
       "      <td>NaN</td>\n",
       "      <td>NaN</td>\n",
       "    </tr>\n",
       "    <tr>\n",
       "      <th>374359</th>\n",
       "      <td>NaN</td>\n",
       "      <td>Schaumburg</td>\n",
       "      <td>International Legal and Business Services Grou...</td>\n",
       "      <td>IL</td>\n",
       "      <td>NaN</td>\n",
       "      <td>NaN</td>\n",
       "      <td>A-16354-82345</td>\n",
       "      <td>2016-12-30</td>\n",
       "      <td>Withdrawn</td>\n",
       "      <td>H-1B</td>\n",
       "      <td>...</td>\n",
       "      <td>NaN</td>\n",
       "      <td>NaN</td>\n",
       "      <td>N</td>\n",
       "      <td>NaN</td>\n",
       "      <td>79,082.00</td>\n",
       "      <td>79,082.00</td>\n",
       "      <td>Year</td>\n",
       "      <td>NaN</td>\n",
       "      <td>NaN</td>\n",
       "      <td>NaN</td>\n",
       "    </tr>\n",
       "    <tr>\n",
       "      <th>374360</th>\n",
       "      <td>NaN</td>\n",
       "      <td>LOS ANGELES</td>\n",
       "      <td>LAW OFFICES OF JAMES S HONG</td>\n",
       "      <td>CA</td>\n",
       "      <td>NaN</td>\n",
       "      <td>NaN</td>\n",
       "      <td>A-16357-84250</td>\n",
       "      <td>2016-12-30</td>\n",
       "      <td>Withdrawn</td>\n",
       "      <td>B-2</td>\n",
       "      <td>...</td>\n",
       "      <td>NaN</td>\n",
       "      <td>NaN</td>\n",
       "      <td>N</td>\n",
       "      <td>NaN</td>\n",
       "      <td>37,981.00</td>\n",
       "      <td>NaN</td>\n",
       "      <td>Year</td>\n",
       "      <td>NaN</td>\n",
       "      <td>NaN</td>\n",
       "      <td>NaN</td>\n",
       "    </tr>\n",
       "    <tr>\n",
       "      <th>374361</th>\n",
       "      <td>NaN</td>\n",
       "      <td>Phoenix</td>\n",
       "      <td>Fragomen, Del Rey, Bernsen &amp; Loewy, LLP</td>\n",
       "      <td>AZ</td>\n",
       "      <td>NaN</td>\n",
       "      <td>NaN</td>\n",
       "      <td>A-16279-59292</td>\n",
       "      <td>2016-12-30</td>\n",
       "      <td>Withdrawn</td>\n",
       "      <td>H-1B</td>\n",
       "      <td>...</td>\n",
       "      <td>NaN</td>\n",
       "      <td>NaN</td>\n",
       "      <td>N</td>\n",
       "      <td>NaN</td>\n",
       "      <td>84,926.00</td>\n",
       "      <td>121,500.00</td>\n",
       "      <td>Year</td>\n",
       "      <td>NaN</td>\n",
       "      <td>NaN</td>\n",
       "      <td>NaN</td>\n",
       "    </tr>\n",
       "  </tbody>\n",
       "</table>\n",
       "<p>374362 rows × 154 columns</p>\n",
       "</div>"
      ],
      "text/plain": [
       "       add_these_pw_job_title_9089   agent_city  \\\n",
       "0                              NaN          NaN   \n",
       "1                              NaN          NaN   \n",
       "2                              NaN          NaN   \n",
       "3                              NaN          NaN   \n",
       "4                              NaN          NaN   \n",
       "...                            ...          ...   \n",
       "374357                         NaN   Buena Park   \n",
       "374358                         NaN      Seattle   \n",
       "374359                         NaN   Schaumburg   \n",
       "374360                         NaN  LOS ANGELES   \n",
       "374361                         NaN      Phoenix   \n",
       "\n",
       "                                          agent_firm_name agent_state  \\\n",
       "0                                                     NaN         NaN   \n",
       "1                                                     NaN         NaN   \n",
       "2                                                     NaN         NaN   \n",
       "3                                                     NaN         NaN   \n",
       "4                                                     NaN         NaN   \n",
       "...                                                   ...         ...   \n",
       "374357                           Law Offices of Yohan Lee          CA   \n",
       "374358                         MacDonald Hoague & Bayless          WA   \n",
       "374359  International Legal and Business Services Grou...          IL   \n",
       "374360                        LAW OFFICES OF JAMES S HONG          CA   \n",
       "374361            Fragomen, Del Rey, Bernsen & Loewy, LLP          AZ   \n",
       "\n",
       "       application_type        case_no    case_number case_received_date  \\\n",
       "0                  PERM  A-07323-97014            NaN                NaN   \n",
       "1                  PERM  A-07332-99439            NaN                NaN   \n",
       "2                  PERM  A-07333-99643            NaN                NaN   \n",
       "3                  PERM  A-07339-01930            NaN                NaN   \n",
       "4                  PERM  A-07345-03565            NaN                NaN   \n",
       "...                 ...            ...            ...                ...   \n",
       "374357              NaN            NaN  A-16363-85407         2016-12-29   \n",
       "374358              NaN            NaN  A-16271-56745         2016-12-30   \n",
       "374359              NaN            NaN  A-16354-82345         2016-12-30   \n",
       "374360              NaN            NaN  A-16357-84250         2016-12-30   \n",
       "374361              NaN            NaN  A-16279-59292         2016-12-30   \n",
       "\n",
       "       case_status class_of_admission  ... ri_pvt_employment_firm_to  \\\n",
       "0        Certified                J-1  ...                       NaN   \n",
       "1           Denied                B-2  ...                       NaN   \n",
       "2        Certified               H-1B  ...                       NaN   \n",
       "3        Certified                B-2  ...                       NaN   \n",
       "4        Certified                L-1  ...                       NaN   \n",
       "...            ...                ...  ...                       ...   \n",
       "374357   Withdrawn                NaN  ...                       NaN   \n",
       "374358   Withdrawn                L-1  ...                       NaN   \n",
       "374359   Withdrawn               H-1B  ...                       NaN   \n",
       "374360   Withdrawn                B-2  ...                       NaN   \n",
       "374361   Withdrawn               H-1B  ...                       NaN   \n",
       "\n",
       "       ri_us_workers_considered schd_a_sheepherder     us_economic_sector  \\\n",
       "0                           NaN                NaN                     IT   \n",
       "1                           NaN                NaN  Other Economic Sector   \n",
       "2                           NaN                NaN              Aerospace   \n",
       "3                           NaN                NaN  Other Economic Sector   \n",
       "4                           NaN                NaN           Advanced Mfg   \n",
       "...                         ...                ...                    ...   \n",
       "374357                      NaN                  N                    NaN   \n",
       "374358                        Y                  N                    NaN   \n",
       "374359                      NaN                  N                    NaN   \n",
       "374360                      NaN                  N                    NaN   \n",
       "374361                      NaN                  N                    NaN   \n",
       "\n",
       "       wage_offer_from_9089 wage_offer_to_9089 wage_offer_unit_of_pay_9089  \\\n",
       "0                   75629.0                NaN                          yr   \n",
       "1                   37024.0                NaN                          yr   \n",
       "2                   47923.0                NaN                          yr   \n",
       "3                     10.97                NaN                          hr   \n",
       "4                  100000.0                NaN                          yr   \n",
       "...                     ...                ...                         ...   \n",
       "374357            28,330.00                NaN                        Year   \n",
       "374358           122,000.00         142,000.00                        Year   \n",
       "374359            79,082.00          79,082.00                        Year   \n",
       "374360            37,981.00                NaN                        Year   \n",
       "374361            84,926.00         121,500.00                        Year   \n",
       "\n",
       "       wage_offered_from_9089 wage_offered_to_9089  \\\n",
       "0                         NaN                  NaN   \n",
       "1                         NaN                  NaN   \n",
       "2                         NaN                  NaN   \n",
       "3                         NaN                  NaN   \n",
       "4                         NaN                  NaN   \n",
       "...                       ...                  ...   \n",
       "374357                    NaN                  NaN   \n",
       "374358                    NaN                  NaN   \n",
       "374359                    NaN                  NaN   \n",
       "374360                    NaN                  NaN   \n",
       "374361                    NaN                  NaN   \n",
       "\n",
       "        wage_offered_unit_of_pay_9089  \n",
       "0                                 NaN  \n",
       "1                                 NaN  \n",
       "2                                 NaN  \n",
       "3                                 NaN  \n",
       "4                                 NaN  \n",
       "...                               ...  \n",
       "374357                            NaN  \n",
       "374358                            NaN  \n",
       "374359                            NaN  \n",
       "374360                            NaN  \n",
       "374361                            NaN  \n",
       "\n",
       "[374362 rows x 154 columns]"
      ]
     },
     "execution_count": 2,
     "metadata": {},
     "output_type": "execute_result"
    }
   ],
   "source": [
    "df = pd.read_csv('us_perm_visas.csv')\n",
    "df"
   ]
  },
  {
   "cell_type": "code",
   "execution_count": 3,
   "metadata": {},
   "outputs": [
    {
     "data": {
      "text/plain": [
       "(374362, 154)"
      ]
     },
     "execution_count": 3,
     "metadata": {},
     "output_type": "execute_result"
    }
   ],
   "source": [
    "df.shape\n"
   ]
  },
  {
   "cell_type": "code",
   "execution_count": 4,
   "metadata": {},
   "outputs": [
    {
     "name": "stdout",
     "output_type": "stream",
     "text": [
      "['add_these_pw_job_title_9089' 'agent_city' 'agent_firm_name'\n",
      " 'agent_state' 'application_type' 'case_no' 'case_number'\n",
      " 'case_received_date' 'case_status' 'class_of_admission'\n",
      " 'country_of_citizenship' 'country_of_citzenship' 'decision_date'\n",
      " 'employer_address_1' 'employer_address_2' 'employer_city'\n",
      " 'employer_country' 'employer_decl_info_title' 'employer_name'\n",
      " 'employer_num_employees' 'employer_phone' 'employer_phone_ext'\n",
      " 'employer_postal_code' 'employer_state' 'employer_yr_estab'\n",
      " 'foreign_worker_info_alt_edu_experience'\n",
      " 'foreign_worker_info_birth_country' 'foreign_worker_info_city'\n",
      " 'foreign_worker_info_education' 'foreign_worker_info_education_other'\n",
      " 'foreign_worker_info_inst' 'foreign_worker_info_major'\n",
      " 'foreign_worker_info_postal_code' 'foreign_worker_info_rel_occup_exp'\n",
      " 'foreign_worker_info_req_experience' 'foreign_worker_info_state'\n",
      " 'foreign_worker_info_training_comp' 'foreign_worker_ownership_interest'\n",
      " 'foreign_worker_yr_rel_edu_completed' 'fw_info_alt_edu_experience'\n",
      " 'fw_info_birth_country' 'fw_info_education_other' 'fw_info_postal_code'\n",
      " 'fw_info_rel_occup_exp' 'fw_info_req_experience' 'fw_info_training_comp'\n",
      " 'fw_info_yr_rel_edu_completed' 'fw_ownership_interest'\n",
      " 'ji_foreign_worker_live_on_premises' 'ji_fw_live_on_premises'\n",
      " 'ji_live_in_dom_svc_contract' 'ji_live_in_domestic_service'\n",
      " 'ji_offered_to_sec_j_foreign_worker' 'ji_offered_to_sec_j_fw'\n",
      " 'job_info_alt_cmb_ed_oth_yrs' 'job_info_alt_combo_ed'\n",
      " 'job_info_alt_combo_ed_exp' 'job_info_alt_combo_ed_other'\n",
      " 'job_info_alt_field' 'job_info_alt_field_name' 'job_info_alt_occ'\n",
      " 'job_info_alt_occ_job_title' 'job_info_alt_occ_num_months'\n",
      " 'job_info_combo_occupation' 'job_info_education'\n",
      " 'job_info_education_other' 'job_info_experience'\n",
      " 'job_info_experience_num_months' 'job_info_foreign_ed'\n",
      " 'job_info_foreign_lang_req' 'job_info_job_req_normal'\n",
      " 'job_info_job_title' 'job_info_major' 'job_info_training'\n",
      " 'job_info_training_field' 'job_info_training_num_months'\n",
      " 'job_info_work_city' 'job_info_work_postal_code' 'job_info_work_state'\n",
      " 'naics_2007_us_code' 'naics_2007_us_title' 'naics_code' 'naics_title'\n",
      " 'naics_us_code' 'naics_us_code_2007' 'naics_us_title'\n",
      " 'naics_us_title_2007' 'orig_case_no' 'orig_file_date'\n",
      " 'preparer_info_emp_completed' 'preparer_info_title' 'pw_amount_9089'\n",
      " 'pw_determ_date' 'pw_expire_date' 'pw_job_title_908' 'pw_job_title_9089'\n",
      " 'pw_level_9089' 'pw_soc_code' 'pw_soc_title' 'pw_source_name_9089'\n",
      " 'pw_source_name_other_9089' 'pw_track_num' 'pw_unit_of_pay_9089'\n",
      " 'rec_info_barg_rep_notified' 'recr_info_barg_rep_notified'\n",
      " 'recr_info_coll_teach_comp_proc' 'recr_info_coll_univ_teacher'\n",
      " 'recr_info_employer_rec_payment' 'recr_info_first_ad_start'\n",
      " 'recr_info_job_fair_from' 'recr_info_job_fair_to'\n",
      " 'recr_info_on_campus_recr_from' 'recr_info_on_campus_recr_to'\n",
      " 'recr_info_pro_org_advert_from' 'recr_info_pro_org_advert_to'\n",
      " 'recr_info_prof_org_advert_from' 'recr_info_prof_org_advert_to'\n",
      " 'recr_info_professional_occ' 'recr_info_radio_tv_ad_from'\n",
      " 'recr_info_radio_tv_ad_to' 'recr_info_second_ad_start'\n",
      " 'recr_info_sunday_newspaper' 'recr_info_swa_job_order_end'\n",
      " 'recr_info_swa_job_order_start' 'refile' 'ri_1st_ad_newspaper_name'\n",
      " 'ri_2nd_ad_newspaper_name' 'ri_2nd_ad_newspaper_or_journal'\n",
      " 'ri_campus_placement_from' 'ri_campus_placement_to'\n",
      " 'ri_coll_tch_basic_process' 'ri_coll_teach_pro_jnl'\n",
      " 'ri_coll_teach_select_date' 'ri_employee_referral_prog_from'\n",
      " 'ri_employee_referral_prog_to' 'ri_employer_web_post_from'\n",
      " 'ri_employer_web_post_to' 'ri_job_search_website_from'\n",
      " 'ri_job_search_website_to' 'ri_layoff_in_past_six_months'\n",
      " 'ri_local_ethnic_paper_from' 'ri_local_ethnic_paper_to'\n",
      " 'ri_posted_notice_at_worksite' 'ri_pvt_employment_firm_from'\n",
      " 'ri_pvt_employment_firm_to' 'ri_us_workers_considered'\n",
      " 'schd_a_sheepherder' 'us_economic_sector' 'wage_offer_from_9089'\n",
      " 'wage_offer_to_9089' 'wage_offer_unit_of_pay_9089'\n",
      " 'wage_offered_from_9089' 'wage_offered_to_9089'\n",
      " 'wage_offered_unit_of_pay_9089']\n"
     ]
    }
   ],
   "source": [
    "print(df.columns.values)  "
   ]
  },
  {
   "cell_type": "code",
   "execution_count": 5,
   "metadata": {},
   "outputs": [
    {
     "data": {
      "text/plain": [
       "0         A-07323-97014\n",
       "1         A-07332-99439\n",
       "2         A-07333-99643\n",
       "3         A-07339-01930\n",
       "4         A-07345-03565\n",
       "              ...      \n",
       "374357              NaN\n",
       "374358              NaN\n",
       "374359              NaN\n",
       "374360              NaN\n",
       "374361              NaN\n",
       "Name: case_no, Length: 374362, dtype: object"
      ]
     },
     "execution_count": 5,
     "metadata": {},
     "output_type": "execute_result"
    }
   ],
   "source": [
    "df['case_no']"
   ]
  },
  {
   "cell_type": "code",
   "execution_count": 6,
   "metadata": {},
   "outputs": [
    {
     "data": {
      "text/plain": [
       "0                   NaN\n",
       "1                   NaN\n",
       "2                   NaN\n",
       "3                   NaN\n",
       "4                   NaN\n",
       "              ...      \n",
       "374357    A-16363-85407\n",
       "374358    A-16271-56745\n",
       "374359    A-16354-82345\n",
       "374360    A-16357-84250\n",
       "374361    A-16279-59292\n",
       "Name: case_number, Length: 374362, dtype: object"
      ]
     },
     "execution_count": 6,
     "metadata": {},
     "output_type": "execute_result"
    }
   ],
   "source": [
    "df['case_number']"
   ]
  },
  {
   "cell_type": "code",
   "execution_count": 7,
   "metadata": {},
   "outputs": [],
   "source": [
    "#seeing the values of case_no and case_number it seems both have same meaning, i.e-visa application no\n",
    "#few values at the top in case_no is null\n",
    "#few values at the tail case_number is null"
   ]
  },
  {
   "cell_type": "code",
   "execution_count": 8,
   "metadata": {},
   "outputs": [
    {
     "data": {
      "text/plain": [
       "134990"
      ]
     },
     "execution_count": 8,
     "metadata": {},
     "output_type": "execute_result"
    }
   ],
   "source": [
    "df['case_no'].nunique()"
   ]
  },
  {
   "cell_type": "code",
   "execution_count": 9,
   "metadata": {},
   "outputs": [
    {
     "data": {
      "text/plain": [
       "238418"
      ]
     },
     "execution_count": 9,
     "metadata": {},
     "output_type": "execute_result"
    }
   ],
   "source": [
    "df['case_number'].nunique()"
   ]
  },
  {
   "cell_type": "code",
   "execution_count": 10,
   "metadata": {},
   "outputs": [
    {
     "data": {
      "text/plain": [
       "(374362, 154)"
      ]
     },
     "execution_count": 10,
     "metadata": {},
     "output_type": "execute_result"
    }
   ],
   "source": [
    "df.shape"
   ]
  },
  {
   "cell_type": "code",
   "execution_count": 11,
   "metadata": {},
   "outputs": [
    {
     "data": {
      "text/plain": [
       "239093"
      ]
     },
     "execution_count": 11,
     "metadata": {},
     "output_type": "execute_result"
    }
   ],
   "source": [
    "df['case_no'].isnull().sum()    "
   ]
  },
  {
   "cell_type": "code",
   "execution_count": 12,
   "metadata": {},
   "outputs": [
    {
     "data": {
      "text/plain": [
       "135269"
      ]
     },
     "execution_count": 12,
     "metadata": {},
     "output_type": "execute_result"
    }
   ],
   "source": [
    "df['case_number'].isnull().sum()    "
   ]
  },
  {
   "cell_type": "code",
   "execution_count": 13,
   "metadata": {},
   "outputs": [],
   "source": [
    "#null value in case number is almost close to values in case no"
   ]
  },
  {
   "cell_type": "code",
   "execution_count": 14,
   "metadata": {},
   "outputs": [
    {
     "data": {
      "text/plain": [
       "373408"
      ]
     },
     "execution_count": 14,
     "metadata": {},
     "output_type": "execute_result"
    }
   ],
   "source": [
    "134990 + 238418"
   ]
  },
  {
   "cell_type": "code",
   "execution_count": 15,
   "metadata": {},
   "outputs": [
    {
     "data": {
      "text/plain": [
       "0                   NaN\n",
       "1                   NaN\n",
       "2                   NaN\n",
       "3                   NaN\n",
       "4                   NaN\n",
       "              ...      \n",
       "374357    A-16363-85407\n",
       "374358    A-16271-56745\n",
       "374359    A-16354-82345\n",
       "374360    A-16357-84250\n",
       "374361    A-16279-59292\n",
       "Name: case_number, Length: 374362, dtype: object"
      ]
     },
     "execution_count": 15,
     "metadata": {},
     "output_type": "execute_result"
    }
   ],
   "source": [
    "df['case_number'] #Top 135269 rows are null values"
   ]
  },
  {
   "cell_type": "code",
   "execution_count": 16,
   "metadata": {},
   "outputs": [
    {
     "data": {
      "text/plain": [
       "5"
      ]
     },
     "execution_count": 16,
     "metadata": {},
     "output_type": "execute_result"
    }
   ],
   "source": [
    "df.columns.get_loc('case_no') #to get column index of case_no"
   ]
  },
  {
   "cell_type": "code",
   "execution_count": 17,
   "metadata": {},
   "outputs": [
    {
     "data": {
      "text/plain": [
       "6"
      ]
     },
     "execution_count": 17,
     "metadata": {},
     "output_type": "execute_result"
    }
   ],
   "source": [
    "df.columns.get_loc('case_number') #to get column index of case_number\n"
   ]
  },
  {
   "cell_type": "code",
   "execution_count": 18,
   "metadata": {},
   "outputs": [],
   "source": [
    "casenoindex = df.columns.get_loc('case_no')\n",
    "casenumberindex = df.columns.get_loc('case_number')\n",
    "\n",
    "casenolist = []\n",
    "\n",
    "for value in df.iloc[0:135269,casenoindex]:\n",
    "    casenolist.append(value)\n",
    "\n",
    "for value in df.iloc[135269:374362,casenumberindex]:\n",
    "    casenolist.append(value)"
   ]
  },
  {
   "cell_type": "code",
   "execution_count": 19,
   "metadata": {},
   "outputs": [],
   "source": [
    "df['casenumber'] = casenolist"
   ]
  },
  {
   "cell_type": "code",
   "execution_count": 20,
   "metadata": {},
   "outputs": [],
   "source": [
    "df.drop(['case_no','case_number'],axis=1,inplace=True)"
   ]
  },
  {
   "cell_type": "code",
   "execution_count": 21,
   "metadata": {},
   "outputs": [
    {
     "data": {
      "text/plain": [
       "Index(['add_these_pw_job_title_9089', 'agent_city', 'agent_firm_name',\n",
       "       'agent_state', 'application_type', 'case_received_date', 'case_status',\n",
       "       'class_of_admission', 'country_of_citizenship', 'country_of_citzenship',\n",
       "       ...\n",
       "       'ri_us_workers_considered', 'schd_a_sheepherder', 'us_economic_sector',\n",
       "       'wage_offer_from_9089', 'wage_offer_to_9089',\n",
       "       'wage_offer_unit_of_pay_9089', 'wage_offered_from_9089',\n",
       "       'wage_offered_to_9089', 'wage_offered_unit_of_pay_9089', 'casenumber'],\n",
       "      dtype='object', length=153)"
      ]
     },
     "execution_count": 21,
     "metadata": {},
     "output_type": "execute_result"
    }
   ],
   "source": [
    "df.columns"
   ]
  },
  {
   "cell_type": "code",
   "execution_count": 22,
   "metadata": {},
   "outputs": [
    {
     "data": {
      "text/plain": [
       "array(['Certified', 'Denied', 'Certified-Expired', 'Withdrawn'],\n",
       "      dtype=object)"
      ]
     },
     "execution_count": 22,
     "metadata": {},
     "output_type": "execute_result"
    }
   ],
   "source": [
    "df.case_status.unique()"
   ]
  },
  {
   "cell_type": "code",
   "execution_count": 23,
   "metadata": {},
   "outputs": [
    {
     "data": {
      "text/plain": [
       "case_status\n",
       "Certified            181933\n",
       "Certified-Expired    148586\n",
       "Denied                25649\n",
       "Withdrawn             18194\n",
       "Name: count, dtype: int64"
      ]
     },
     "execution_count": 23,
     "metadata": {},
     "output_type": "execute_result"
    }
   ],
   "source": [
    "df.case_status.value_counts()"
   ]
  },
  {
   "cell_type": "code",
   "execution_count": 24,
   "metadata": {},
   "outputs": [
    {
     "name": "stdout",
     "output_type": "stream",
     "text": [
      "181933 occurence of stats 'Certified\n",
      "25649 occurence of stats 'Denied\n",
      "148586 occurence of stats 'Certified-Expired\n",
      "18194 occurence of stats 'Withdrawn\n"
     ]
    }
   ],
   "source": [
    "# another method\n",
    "\n",
    "for value in df.case_status.unique():\n",
    "    print(len(df[df['case_status'] == value]), \"occurence of stats '{}\".format(value))"
   ]
  },
  {
   "cell_type": "code",
   "execution_count": 25,
   "metadata": {},
   "outputs": [],
   "source": [
    "# We can remove the Withdrawn status as it is not useful for our analysis\n",
    "df = df[df.case_status != 'Withdrawn']"
   ]
  },
  {
   "cell_type": "code",
   "execution_count": 26,
   "metadata": {},
   "outputs": [
    {
     "data": {
      "text/plain": [
       "case_status\n",
       "Certified            181933\n",
       "Certified-Expired    148586\n",
       "Denied                25649\n",
       "Name: count, dtype: int64"
      ]
     },
     "execution_count": 26,
     "metadata": {},
     "output_type": "execute_result"
    }
   ],
   "source": [
    "df.case_status.value_counts()"
   ]
  },
  {
   "cell_type": "code",
   "execution_count": 27,
   "metadata": {},
   "outputs": [],
   "source": [
    "df.loc[df.case_status == 'Certified-Expired', 'case_status'] = 'Certified'"
   ]
  },
  {
   "cell_type": "code",
   "execution_count": 28,
   "metadata": {},
   "outputs": [
    {
     "data": {
      "text/plain": [
       "case_status\n",
       "Certified    330519\n",
       "Denied        25649\n",
       "Name: count, dtype: int64"
      ]
     },
     "execution_count": 28,
     "metadata": {},
     "output_type": "execute_result"
    }
   ],
   "source": [
    "df.case_status.value_counts()\n"
   ]
  },
  {
   "cell_type": "code",
   "execution_count": 29,
   "metadata": {},
   "outputs": [
    {
     "data": {
      "text/plain": [
       "case_status\n",
       "Certified    92.798623\n",
       "Denied        7.201377\n",
       "Name: proportion, dtype: float64"
      ]
     },
     "execution_count": 29,
     "metadata": {},
     "output_type": "execute_result"
    }
   ],
   "source": [
    "df.case_status.value_counts(normalize=True)*100"
   ]
  },
  {
   "cell_type": "code",
   "execution_count": 30,
   "metadata": {},
   "outputs": [],
   "source": [
    "#insights: 7.2% of the visa application were denied\n"
   ]
  },
  {
   "cell_type": "code",
   "execution_count": 31,
   "metadata": {},
   "outputs": [
    {
     "data": {
      "text/plain": [
       "add_these_pw_job_title_9089      317031\n",
       "agent_city                       153452\n",
       "agent_firm_name                  157646\n",
       "agent_state                      156544\n",
       "application_type                 229320\n",
       "                                  ...  \n",
       "wage_offer_unit_of_pay_9089      108769\n",
       "wage_offered_from_9089           248582\n",
       "wage_offered_to_9089             326852\n",
       "wage_offered_unit_of_pay_9089    289470\n",
       "casenumber                            0\n",
       "Length: 153, dtype: int64"
      ]
     },
     "execution_count": 31,
     "metadata": {},
     "output_type": "execute_result"
    }
   ],
   "source": [
    "df.isnull().sum()"
   ]
  },
  {
   "cell_type": "code",
   "execution_count": 32,
   "metadata": {},
   "outputs": [],
   "source": [
    "#dropping all empty rows and columns\n",
    "df.dropna(axis=0, how='all', inplace=True)\n",
    "df.dropna(axis=1, how='all', inplace=True)"
   ]
  },
  {
   "cell_type": "code",
   "execution_count": 35,
   "metadata": {},
   "outputs": [
    {
     "name": "stdout",
     "output_type": "stream",
     "text": [
      "The missing values in add_these_pw_job_title_9089 is 317031\n",
      "The missing values in agent_city is 153452\n",
      "The missing values in agent_firm_name is 157646\n",
      "The missing values in agent_state is 156544\n",
      "The missing values in application_type is 229320\n",
      "The missing values in case_received_date is 126848\n",
      "The missing values in case_status is 0\n",
      "The missing values in class_of_admission is 21085\n",
      "The missing values in country_of_citizenship is 19272\n",
      "The missing values in country_of_citzenship is 336951\n",
      "The missing values in decision_date is 0\n",
      "The missing values in employer_address_1 is 37\n",
      "The missing values in employer_address_2 is 236133\n",
      "The missing values in employer_city is 10\n",
      "The missing values in employer_country is 126920\n",
      "The missing values in employer_decl_info_title is 126886\n",
      "The missing values in employer_name is 8\n",
      "The missing values in employer_num_employees is 126925\n",
      "The missing values in employer_phone is 126883\n",
      "The missing values in employer_phone_ext is 333670\n",
      "The missing values in employer_postal_code is 33\n",
      "The missing values in employer_state is 37\n",
      "The missing values in employer_yr_estab is 126982\n",
      "The missing values in foreign_worker_info_alt_edu_experience is 271883\n",
      "The missing values in foreign_worker_info_birth_country is 271880\n",
      "The missing values in foreign_worker_info_city is 126875\n",
      "The missing values in foreign_worker_info_education is 143554\n",
      "The missing values in foreign_worker_info_education_other is 352421\n",
      "The missing values in foreign_worker_info_inst is 143883\n",
      "The missing values in foreign_worker_info_major is 144800\n",
      "The missing values in foreign_worker_info_postal_code is 274425\n",
      "The missing values in foreign_worker_info_rel_occup_exp is 271875\n",
      "The missing values in foreign_worker_info_req_experience is 271873\n",
      "The missing values in foreign_worker_info_state is 142448\n",
      "The missing values in foreign_worker_info_training_comp is 271874\n",
      "The missing values in foreign_worker_ownership_interest is 271870\n",
      "The missing values in foreign_worker_yr_rel_edu_completed is 276735\n",
      "The missing values in fw_info_alt_edu_experience is 211154\n",
      "The missing values in fw_info_birth_country is 211166\n",
      "The missing values in fw_info_education_other is 350072\n",
      "The missing values in fw_info_postal_code is 213280\n",
      "The missing values in fw_info_rel_occup_exp is 211157\n",
      "The missing values in fw_info_req_experience is 211153\n",
      "The missing values in fw_info_training_comp is 211156\n",
      "The missing values in fw_info_yr_rel_edu_completed is 223131\n",
      "The missing values in fw_ownership_interest is 211154\n",
      "The missing values in ji_foreign_worker_live_on_premises is 271871\n",
      "The missing values in ji_fw_live_on_premises is 211152\n",
      "The missing values in ji_live_in_dom_svc_contract is 353855\n",
      "The missing values in ji_live_in_domestic_service is 126858\n",
      "The missing values in ji_offered_to_sec_j_foreign_worker is 271871\n",
      "The missing values in ji_offered_to_sec_j_fw is 211152\n",
      "The missing values in job_info_alt_cmb_ed_oth_yrs is 288242\n",
      "The missing values in job_info_alt_combo_ed is 290025\n",
      "The missing values in job_info_alt_combo_ed_exp is 126881\n",
      "The missing values in job_info_alt_combo_ed_other is 347190\n",
      "The missing values in job_info_alt_field is 126880\n",
      "The missing values in job_info_alt_field_name is 265907\n",
      "The missing values in job_info_alt_occ is 213169\n",
      "The missing values in job_info_alt_occ_job_title is 213847\n",
      "The missing values in job_info_alt_occ_num_months is 214045\n",
      "The missing values in job_info_combo_occupation is 126855\n",
      "The missing values in job_info_education is 147649\n",
      "The missing values in job_info_education_other is 348724\n",
      "The missing values in job_info_experience is 126858\n",
      "The missing values in job_info_experience_num_months is 227222\n",
      "The missing values in job_info_foreign_ed is 127075\n",
      "The missing values in job_info_foreign_lang_req is 126862\n",
      "The missing values in job_info_job_req_normal is 126859\n",
      "The missing values in job_info_job_title is 126889\n",
      "The missing values in job_info_major is 151241\n",
      "The missing values in job_info_training is 126861\n",
      "The missing values in job_info_training_field is 351877\n",
      "The missing values in job_info_training_num_months is 351596\n",
      "The missing values in job_info_work_city is 95\n",
      "The missing values in job_info_work_postal_code is 126930\n",
      "The missing values in job_info_work_state is 96\n",
      "The missing values in naics_2007_us_code is 337009\n",
      "The missing values in naics_2007_us_title is 337598\n",
      "The missing values in naics_code is 272070\n",
      "The missing values in naics_title is 272070\n",
      "The missing values in naics_us_code is 211467\n",
      "The missing values in naics_us_code_2007 is 248921\n",
      "The missing values in naics_us_title is 211467\n",
      "The missing values in naics_us_title_2007 is 251893\n",
      "The missing values in orig_case_no is 355892\n",
      "The missing values in orig_file_date is 355904\n",
      "The missing values in preparer_info_emp_completed is 126885\n",
      "The missing values in preparer_info_title is 154602\n",
      "The missing values in pw_amount_9089 is 2203\n",
      "The missing values in pw_determ_date is 127160\n",
      "The missing values in pw_expire_date is 127239\n",
      "The missing values in pw_job_title_908 is 211218\n",
      "The missing values in pw_job_title_9089 is 145334\n",
      "The missing values in pw_level_9089 is 26585\n",
      "The missing values in pw_soc_code is 574\n",
      "The missing values in pw_soc_title is 2321\n",
      "The missing values in pw_source_name_9089 is 2087\n",
      "The missing values in pw_source_name_other_9089 is 340927\n",
      "The missing values in pw_track_num is 128696\n",
      "The missing values in pw_unit_of_pay_9089 is 1481\n",
      "The missing values in rec_info_barg_rep_notified is 271930\n",
      "The missing values in recr_info_barg_rep_notified is 211165\n",
      "The missing values in recr_info_coll_teach_comp_proc is 349374\n",
      "The missing values in recr_info_coll_univ_teacher is 126876\n",
      "The missing values in recr_info_employer_rec_payment is 126864\n",
      "The missing values in recr_info_first_ad_start is 132806\n",
      "The missing values in recr_info_job_fair_from is 354447\n",
      "The missing values in recr_info_job_fair_to is 354451\n",
      "The missing values in recr_info_on_campus_recr_from is 354403\n",
      "The missing values in recr_info_on_campus_recr_to is 354410\n",
      "The missing values in recr_info_pro_org_advert_from is 342873\n",
      "The missing values in recr_info_pro_org_advert_to is 342879\n",
      "The missing values in recr_info_prof_org_advert_from is 328771\n",
      "The missing values in recr_info_prof_org_advert_to is 328778\n",
      "The missing values in recr_info_professional_occ is 126861\n",
      "The missing values in recr_info_radio_tv_ad_from is 336666\n",
      "The missing values in recr_info_radio_tv_ad_to is 336665\n",
      "The missing values in recr_info_second_ad_start is 132843\n",
      "The missing values in recr_info_sunday_newspaper is 132717\n",
      "The missing values in recr_info_swa_job_order_end is 132841\n",
      "The missing values in recr_info_swa_job_order_start is 132819\n",
      "The missing values in refile is 247861\n",
      "The missing values in ri_1st_ad_newspaper_name is 132797\n",
      "The missing values in ri_2nd_ad_newspaper_name is 132858\n",
      "The missing values in ri_2nd_ad_newspaper_or_journal is 132825\n",
      "The missing values in ri_campus_placement_from is 327380\n",
      "The missing values in ri_campus_placement_to is 327390\n",
      "The missing values in ri_coll_tch_basic_process is 349382\n",
      "The missing values in ri_coll_teach_pro_jnl is 350625\n",
      "The missing values in ri_coll_teach_select_date is 350626\n",
      "The missing values in ri_employee_referral_prog_from is 289853\n",
      "The missing values in ri_employee_referral_prog_to is 289852\n",
      "The missing values in ri_employer_web_post_from is 224277\n",
      "The missing values in ri_employer_web_post_to is 224300\n",
      "The missing values in ri_job_search_website_from is 166377\n",
      "The missing values in ri_job_search_website_to is 166388\n",
      "The missing values in ri_layoff_in_past_six_months is 126878\n",
      "The missing values in ri_local_ethnic_paper_from is 239853\n",
      "The missing values in ri_local_ethnic_paper_to is 239852\n",
      "The missing values in ri_posted_notice_at_worksite is 126927\n",
      "The missing values in ri_pvt_employment_firm_from is 340050\n",
      "The missing values in ri_pvt_employment_firm_to is 340052\n",
      "The missing values in ri_us_workers_considered is 339595\n",
      "The missing values in schd_a_sheepherder is 126866\n",
      "The missing values in us_economic_sector is 235300\n",
      "The missing values in wage_offer_from_9089 is 107705\n",
      "The missing values in wage_offer_to_9089 is 285397\n",
      "The missing values in wage_offer_unit_of_pay_9089 is 108769\n",
      "The missing values in wage_offered_from_9089 is 248582\n",
      "The missing values in wage_offered_to_9089 is 326852\n",
      "The missing values in wage_offered_unit_of_pay_9089 is 289470\n",
      "The missing values in casenumber is 0\n"
     ]
    }
   ],
   "source": [
    "for columns in df.columns:\n",
    "    print(f\"The missing values in {columns} is {df[columns].isnull().sum()}\")"
   ]
  },
  {
   "cell_type": "code",
   "execution_count": 36,
   "metadata": {},
   "outputs": [
    {
     "data": {
      "text/plain": [
       "Index(['add_these_pw_job_title_9089', 'agent_city', 'agent_firm_name',\n",
       "       'agent_state', 'application_type', 'case_received_date', 'case_status',\n",
       "       'class_of_admission', 'country_of_citizenship', 'country_of_citzenship',\n",
       "       ...\n",
       "       'ri_us_workers_considered', 'schd_a_sheepherder', 'us_economic_sector',\n",
       "       'wage_offer_from_9089', 'wage_offer_to_9089',\n",
       "       'wage_offer_unit_of_pay_9089', 'wage_offered_from_9089',\n",
       "       'wage_offered_to_9089', 'wage_offered_unit_of_pay_9089', 'casenumber'],\n",
       "      dtype='object', length=153)"
      ]
     },
     "execution_count": 36,
     "metadata": {},
     "output_type": "execute_result"
    }
   ],
   "source": [
    "df.columns"
   ]
  },
  {
   "cell_type": "code",
   "execution_count": 37,
   "metadata": {},
   "outputs": [
    {
     "data": {
      "text/plain": [
       "0         2012-02-01\n",
       "1         2011-12-21\n",
       "2         2011-12-01\n",
       "3         2011-12-01\n",
       "4         2012-01-26\n",
       "             ...    \n",
       "374349    2016-12-30\n",
       "374350    2016-12-30\n",
       "374351    2016-12-30\n",
       "374352    2016-12-30\n",
       "374353    2016-12-30\n",
       "Name: decision_date, Length: 356168, dtype: object"
      ]
     },
     "execution_count": 37,
     "metadata": {},
     "output_type": "execute_result"
    }
   ],
   "source": [
    "df['decision_date']"
   ]
  },
  {
   "cell_type": "code",
   "execution_count": 38,
   "metadata": {},
   "outputs": [],
   "source": [
    "df['decision_date'] = pd.to_datetime(df['decision_date'])"
   ]
  },
  {
   "cell_type": "code",
   "execution_count": 39,
   "metadata": {},
   "outputs": [
    {
     "data": {
      "text/plain": [
       "0        2012-02-01\n",
       "1        2011-12-21\n",
       "2        2011-12-01\n",
       "3        2011-12-01\n",
       "4        2012-01-26\n",
       "            ...    \n",
       "374349   2016-12-30\n",
       "374350   2016-12-30\n",
       "374351   2016-12-30\n",
       "374352   2016-12-30\n",
       "374353   2016-12-30\n",
       "Name: decision_date, Length: 356168, dtype: datetime64[ns]"
      ]
     },
     "execution_count": 39,
     "metadata": {},
     "output_type": "execute_result"
    }
   ],
   "source": [
    "df['decision_date']"
   ]
  },
  {
   "cell_type": "code",
   "execution_count": 40,
   "metadata": {},
   "outputs": [],
   "source": [
    "df['Year'] = df['decision_date'].dt.year\n",
    "df['Month'] = df['decision_date'].dt.month\n",
    "df['Day'] = df['decision_date'].dt.day"
   ]
  },
  {
   "cell_type": "code",
   "execution_count": 42,
   "metadata": {},
   "outputs": [
    {
     "data": {
      "text/plain": [
       "<Axes: xlabel='Year', ylabel='count'>"
      ]
     },
     "execution_count": 42,
     "metadata": {},
     "output_type": "execute_result"
    },
    {
     "data": {
      "image/png": "[encoded data removed]",
      "text/plain": [
       "<Figure size 640x480 with 1 Axes>"
      ]
     },
     "metadata": {},
     "output_type": "display_data"
    }
   ],
   "source": [
    "# Year wise status of the visa application\n",
    "sns.countplot(x='Year', hue='case_status', data=df)"
   ]
  },
  {
   "cell_type": "code",
   "execution_count": 43,
   "metadata": {},
   "outputs": [],
   "source": [
    "#insights:\n",
    "#upward trend\n",
    "#2016-highest"
   ]
  },
  {
   "cell_type": "code",
   "execution_count": 45,
   "metadata": {},
   "outputs": [
    {
     "data": {
      "text/plain": [
       "array(['NEW YORK', 'CARLSTADT', 'GLEN ALLEN', ..., 'austin',\n",
       "       'Carson City', 'Northfield'], dtype=object)"
      ]
     },
     "execution_count": 45,
     "metadata": {},
     "output_type": "execute_result"
    }
   ],
   "source": [
    "df.employer_city.unique()"
   ]
  },
  {
   "cell_type": "code",
   "execution_count": 47,
   "metadata": {},
   "outputs": [
    {
     "data": {
      "text/plain": [
       "0           NEW YORK\n",
       "1          CARLSTADT\n",
       "2         GLEN ALLEN\n",
       "3           FLUSHING\n",
       "4             ALBANY\n",
       "             ...    \n",
       "374349        Hebron\n",
       "374350       MILFORD\n",
       "374351      SAN JOSE\n",
       "374352      NEW YORK\n",
       "374353    PISCATAWAY\n",
       "Name: employer_city, Length: 356168, dtype: object"
      ]
     },
     "execution_count": 47,
     "metadata": {},
     "output_type": "execute_result"
    }
   ],
   "source": [
    "df.employer_city"
   ]
  },
  {
   "cell_type": "code",
   "execution_count": 48,
   "metadata": {},
   "outputs": [
    {
     "data": {
      "text/plain": [
       "employer_city\n",
       "NEW YORK           15992\n",
       "COLLEGE STATION    11983\n",
       "SANTA CLARA        10446\n",
       "SAN JOSE            9004\n",
       "REDMOND             8469\n",
       "                   ...  \n",
       "PARADISE               1\n",
       "GRANITE SPRINGS        1\n",
       "GALLIANO               1\n",
       "BURKBURNETT            1\n",
       "Northfield             1\n",
       "Name: count, Length: 8324, dtype: int64"
      ]
     },
     "execution_count": 48,
     "metadata": {},
     "output_type": "execute_result"
    }
   ],
   "source": [
    "df.employer_city.value_counts()"
   ]
  },
  {
   "cell_type": "code",
   "execution_count": 50,
   "metadata": {},
   "outputs": [
    {
     "data": {
      "text/plain": [
       "array(['NEW YORK', 'CARLSTADT', 'GLEN ALLEN', ..., 'PERRYSVILLE',\n",
       "       'STILWELL', 'ROYAL OAKS'], dtype=object)"
      ]
     },
     "execution_count": 50,
     "metadata": {},
     "output_type": "execute_result"
    }
   ],
   "source": [
    "df['employer_city'] = df['employer_city'].str.upper()\n",
    "df['employer_city'].unique()"
   ]
  },
  {
   "cell_type": "code",
   "execution_count": 51,
   "metadata": {},
   "outputs": [
    {
     "data": {
      "text/plain": [
       "<Axes: xlabel='employer_city', ylabel='count'>"
      ]
     },
     "execution_count": 51,
     "metadata": {},
     "output_type": "execute_result"
    },
    {
     "data": {
      "image/png": "[encoded data removed]",
      "text/plain": [
       "<Figure size 640x480 with 1 Axes>"
      ]
     },
     "metadata": {},
     "output_type": "display_data"
    }
   ],
   "source": [
    "#employer city year wise: year wise which are the city where the visa approvoved people are worrking\n",
    "\n",
    "sns.countplot(x='employer_city', hue='Year', data=df, order=df.employer_city.value_counts().iloc[:10].index)"
   ]
  },
  {
   "cell_type": "code",
   "execution_count": 53,
   "metadata": {},
   "outputs": [
    {
     "data": {
      "image/png": "[encoded data removed]",
      "text/plain": [
       "<Figure size 1500x1000 with 1 Axes>"
      ]
     },
     "metadata": {},
     "output_type": "display_data"
    }
   ],
   "source": [
    "fig, ax = plt.subplots()\n",
    "fig.set_size_inches(15,10)\n",
    "\n",
    "sns.set_context(\"paper\",  rc={\"font.size\":12,\"axes.titlesize\":12,\"axes.labelsize\":12})\n",
    "sns.countplot(x='employer_city', hue='Year', data=df, order=df.employer_city.value_counts().iloc[:10].index)\n",
    "plt.xticks(rotation = 90)\n",
    "ax.set(xlabel='Employer city', ylabel='Number of Visa applications')\n",
    "plt.show()"
   ]
  },
  {
   "cell_type": "code",
   "execution_count": null,
   "metadata": {},
   "outputs": [],
   "source": []
  },
  {
   "cell_type": "code",
   "execution_count": null,
   "metadata": {},
   "outputs": [],
   "source": []
  },
  {
   "cell_type": "code",
   "execution_count": null,
   "metadata": {},
   "outputs": [],
   "source": []
  },
  {
   "cell_type": "code",
   "execution_count": null,
   "metadata": {},
   "outputs": [],
   "source": []
  },
  {
   "cell_type": "code",
   "execution_count": null,
   "metadata": {},
   "outputs": [],
   "source": []
  },
  {
   "cell_type": "code",
   "execution_count": null,
   "metadata": {},
   "outputs": [],
   "source": []
  },
  {
   "cell_type": "code",
   "execution_count": null,
   "metadata": {},
   "outputs": [],
   "source": []
  },
  {
   "cell_type": "code",
   "execution_count": null,
   "metadata": {},
   "outputs": [],
   "source": []
  },
  {
   "cell_type": "code",
   "execution_count": null,
   "metadata": {},
   "outputs": [],
   "source": []
  },
  {
   "cell_type": "code",
   "execution_count": null,
   "metadata": {},
   "outputs": [],
   "source": []
  },
  {
   "cell_type": "code",
   "execution_count": null,
   "metadata": {},
   "outputs": [],
   "source": []
  },
  {
   "cell_type": "code",
   "execution_count": null,
   "metadata": {},
   "outputs": [],
   "source": []
  }
 ],
 "metadata": {
  "kernelspec": {
   "display_name": "Python 3",
   "language": "python",
   "name": "python3"
  },
  "language_info": {
   "codemirror_mode": {
    "name": "ipython",
    "version": 3
   },
   "file_extension": ".py",
   "mimetype": "text/x-python",
   "name": "python",
   "nbconvert_exporter": "python",
   "pygments_lexer": "ipython3",
   "version": "3.12.2"
  }
 },
 "nbformat": 4,
 "nbformat_minor": 2
}
